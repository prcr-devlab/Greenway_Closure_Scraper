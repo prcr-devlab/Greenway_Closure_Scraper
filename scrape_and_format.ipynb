{
 "cells": [
  {
   "cell_type": "code",
   "execution_count": 75,
   "metadata": {},
   "outputs": [],
   "source": [
    "import os\n",
    "import csv\n",
    "from datetime import datetime\n",
    "from bs4 import BeautifulSoup\n",
    "import requests"
   ]
  },
  {
   "cell_type": "code",
   "execution_count": 2,
   "metadata": {},
   "outputs": [],
   "source": [
    "url = \"https://www.raleighnc.gov/parks/content/PRecDesignDevelop/Articles/GreenwayRepairs.html\""
   ]
  },
  {
   "cell_type": "code",
   "execution_count": 88,
   "metadata": {},
   "outputs": [
    {
     "data": {
      "text/plain": [
       "datetime.datetime(2018, 8, 2, 21, 20, 58, 634929)"
      ]
     },
     "execution_count": 88,
     "metadata": {},
     "output_type": "execute_result"
    }
   ],
   "source": [
    "run_time = datetime.now()\n",
    "run_time"
   ]
  },
  {
   "cell_type": "code",
   "execution_count": 110,
   "metadata": {},
   "outputs": [
    {
     "data": {
      "text/plain": [
       "'20180802212058'"
      ]
     },
     "execution_count": 110,
     "metadata": {},
     "output_type": "execute_result"
    }
   ],
   "source": [
    "run_id = run_time.strftime(\"%Y%m%d%H%M%S\")\n",
    "run_id"
   ]
  },
  {
   "cell_type": "code",
   "execution_count": 90,
   "metadata": {
    "scrolled": false
   },
   "outputs": [],
   "source": [
    "r = requests.get(url)\n",
    "data = r.text\n",
    "soup = BeautifulSoup(data)"
   ]
  },
  {
   "cell_type": "markdown",
   "metadata": {},
   "source": [
    "# Get last updated date and time"
   ]
  },
  {
   "cell_type": "code",
   "execution_count": 144,
   "metadata": {},
   "outputs": [
    {
     "name": "stdout",
     "output_type": "stream",
     "text": [
      "Site text: Last updated Jul. 24, 2018 - 9:30 am\n",
      "Cleaned date from site text: Jul 24 2018 9:30 am\n",
      "Cleaned date converted to list: ['Jul', '24', '2018', '9:30', 'am']\n",
      "datetime object: 2018-07-24 09:30:00\n",
      "ISO formatted date: 2018-07-24T09:30:00\n"
     ]
    }
   ],
   "source": [
    "updated_date = soup.find_all(\"div\", {\"class\": \"updatedDate\"})[0].text\n",
    "print(\"Site text: {}\".format(updated_date))\n",
    "\n",
    "replacements = ((\"Last updated \", \"\"), (\".\", \"\"), (\",\", \"\"), (\"- \", \"\"))\n",
    "updated_date_clean = updated_date\n",
    "for r in replacements:\n",
    "    updated_date_clean = updated_date_clean.replace(*r)\n",
    "    \n",
    "print(\"Cleaned date from site text: {}\".format(updated_date_clean))\n",
    "\n",
    "updated_date_list = updated_date_clean.split()\n",
    "print(\"Cleaned date converted to list: {}\".format(updated_date_list))\n",
    "\n",
    "updated_date_datetime = datetime.strptime(updated_date_clean, \"%b %d %Y %I:%M %p\")\n",
    "print(\"datetime object: {}\".format(updated_date_datetime))\n",
    "\n",
    "updated_date_iso = datetime.isoformat(updated_date_datetime)\n",
    "print(\"ISO formatted date: {}\".format(updated_date_iso))"
   ]
  },
  {
   "cell_type": "markdown",
   "metadata": {},
   "source": [
    "# Get info from each item in a section tag"
   ]
  },
  {
   "cell_type": "code",
   "execution_count": 54,
   "metadata": {},
   "outputs": [],
   "source": [
    "sections = soup.find_all(\"div\", {\"class\": \"section\"})"
   ]
  },
  {
   "cell_type": "code",
   "execution_count": 74,
   "metadata": {},
   "outputs": [
    {
     "name": "stdout",
     "output_type": "stream",
     "text": [
      "CLOSURE ID:\n",
      "> CrabtreeCreekDetouralongNorthHillsDriveandMineCreekTrail,MileMarker12.5\n",
      "CLOSURE NAME:\n",
      ">  \n",
      "Crabtree Creek Detour along North Hills Drive and Mine Creek Trail, Mile Marker 12.5\n",
      "DESCRIPTION:\n",
      "> The City of Raleigh has closed the Crabtree CreekGreenway at mile marker 12 between the trail access at North Hills Drive and theMine Creek Trail and Crabtree Creek Greenway intersection. This map shows the location of the closed section of trail and thedetour on North Hills Drive. High levels of rain and stormwater runoffcaused excessive erosion and damage to the streambank supporting the retainingwall adjacent to Crabtree Creek and has made this section of the Crabtree CreekGreenway hazardous for public access. These photos are of the retaining wall in its failing condition. The detour will follow the southern side of North Hills Drive for a half-mile and connect to the Mine Creek Trail access. Trail users can continue north, across North Hills Drive to Shelly Lake Park, or south, along the Mine Creek Trail, to reconnect with the Crabtree Creek Trail at the “Z” Bridge, structure #37. For questions about this this project or closure please contact David Bender at 919.996.4798 or email david.bender@raleighnc.gov.\n",
      "LINKS:\n",
      "\n",
      "> https://www.raleighnc.gov//content/ParksRec/Images/Greenways/detourclosuresignCrabtreeCreekRetainingWalls05032018.pdf\n",
      "> https://www.raleighnc.gov//content/ParksRec/Images/Greenways/CCTrailRetainingWallsClosurePhotos05032018.pdf\n",
      "> https://www.raleighnc.gov/parks/content/ParksRec/Articles/Projects/Structure37CrabtreeCreekGreenwayTrail.html\n",
      "\n",
      "\n",
      "CLOSURE ID:\n",
      "> CrabtreeCreekTrailClosurebetweenNewBernAveandeasttoI-440Beltline,BetweenMileMarker2and3\n",
      "CLOSURE NAME:\n",
      ">  \n",
      "Crabtree Creek Trail Closure between New Bern Ave and east to I-440 Beltline, Between Mile Marker 2 and 3\n",
      "DESCRIPTION:\n",
      "> Beginning July 16 through August 16, 2018 and between September 5 and October 12, 2018, Duke Energy will begin construction on a section of their transmission line. Erosion of Crabtree Creek is threating a transmission pole along the Crabtree Creek Trail between an area just east of New Bern Ave and west of I-440, between mile markers 2 and 3. To prepare for improvements, Duke Energy will conduct clearing work between July 16 and August 16, 2018 and relocation of the line between September 5th and October 12th, 2018. This section of the Crabtree Creek Trail will be closed during these periods and anticipated to re-open on October 13, contingent on weather conditions and other construction delays. This map shows the location of the closure. For questions about this closure, please contact For More Information on Duke Energy’s Transmission Reliability Enhancement Projects in the Carolinas East Region: Call: 866-297-5886 Email: CarolinasEast@duke-energy.com, Website: duke-energy.com/CarolinasEastProjects\n",
      "LINKS:\n",
      "\n",
      "> https://www.raleighnc.gov//content/ParksRec/Images/Greenways/detourclosuresignCrabtreeCreekRetainingWalls05032018.pdf\n",
      "> https://www.raleighnc.gov//content/ParksRec/Images/Greenways/CCTrailRetainingWallsClosurePhotos05032018.pdf\n",
      "> https://www.raleighnc.gov/parks/content/ParksRec/Articles/Projects/Structure37CrabtreeCreekGreenwayTrail.html\n",
      "\n",
      "\n",
      "CLOSURE ID:\n",
      "> CrabtreeCreekTrailClosurefromOxfordRoadtoKiwanisPark,BetweenMileMarker8and9\n",
      "CLOSURE NAME:\n",
      ">  \n",
      "Crabtree Creek Trail Closure from Oxford Road to Kiwanis Park, Between Mile Marker 8 and 9\n",
      "DESCRIPTION:\n",
      "> Beginning on Monday, July 2, 2018 the Crabtree Creek Trail will be closed between Oxford Road and Kiwanis Park, between mile marker 8 and 9, and anticipated to last for approximately eight weeks. The trail is anticipated to re-open in early Sept 2018, contingent on weather conditions. This map shows the location of the closure.  The City of Raleigh Public Utilities Department (COPUD)is making capacity improvements to gravity interceptors in the Crabtree Basin Service Area of the City's wastewater collection system -http://crabtreepipeline.com/project-status/. This work, which began in March 2018, requires periodic closures to segments of the Crabtree Creek Trail as well as to other trails that tie into the Crabtree Creek Trail. For questions about this closure and related sewer work, please contact City of Raleigh Public Utilities Department, Monday through Friday, 8 a.m. to 4:30 p.m., 919.996.3476The City of Raleigh Public Utilities Department (COPUD) is making capacity improvements to gravity interceptors in the Crabtree Basin Service Area of the City's wastewater collection system. Please visit the Crabtree Pipeline Project website for more information on this project. This work, which began in March 2018, requires periodic closures to segments of the Crabtree Creek Trail as well as to other trails that tie into the Crabtree Creek Trail.  For questions about this closure and related sewer work, please contact City of Raleigh Public Utilities Department, Monday through Friday, 8 a.m. to 4:30 p.m., 919.996.3476\n",
      "LINKS:\n",
      "\n",
      "> https://www.raleighnc.gov//content/ParksRec/Images/Greenways/detourclosuresignCrabtreeCreekRetainingWalls05032018.pdf\n",
      "> https://www.raleighnc.gov//content/ParksRec/Images/Greenways/CCTrailRetainingWallsClosurePhotos05032018.pdf\n",
      "> https://www.raleighnc.gov/parks/content/ParksRec/Articles/Projects/Structure37CrabtreeCreekGreenwayTrail.html\n",
      "\n",
      "\n",
      "CLOSURE ID:\n",
      "> NeuseRiverTrailClosurebetweenCragBurnLaneandAllenDriveParkingLot,MileMarker14.5,AllenDriveTrailParkingLotClosed\n",
      "CLOSURE NAME:\n",
      ">  \n",
      "Neuse River Trail Closure between Crag Burn Lane and Allen Drive Parking Lot, Mile Marker 14.5, Allen Drive Trail Parking Lot Closed\n",
      "DESCRIPTION:\n",
      "> On July 5th, the City of Raleigh will be closing the Neuse River Greenway at mile marker 14.5 between the trail access at Crag Burn Lane and the Allen Drive parking area to conduct needed repairs to bridge structure 98. The Allen Drive parking area will also be closed on July 2nd to provide construction material and equipment staging for the projects general contractor. This map shows the location of the closed section of trail. The expected closure is anticipated to occur from early July to end of November depending on weather conditions and other construction delays. A designated detour is not provided due to limited street or sidewalk connections available in the vicinity of the bridge repair project. For more information, please contact David Bender at 919.996.4798, email to david.bender@raleighnc.gov or visit the project website for updates. \n",
      "LINKS:\n",
      "\n",
      "> https://www.raleighnc.gov//content/ParksRec/Images/Greenways/detourclosuresignCrabtreeCreekRetainingWalls05032018.pdf\n",
      "> https://www.raleighnc.gov//content/ParksRec/Images/Greenways/CCTrailRetainingWallsClosurePhotos05032018.pdf\n",
      "> https://www.raleighnc.gov/parks/content/ParksRec/Articles/Projects/Structure37CrabtreeCreekGreenwayTrail.html\n",
      "\n",
      "\n",
      "CLOSURE ID:\n",
      "> CrabtreeCreekTrailAlertforEastofN.RaleighBoulevardAlert,BetweenMileMarker5and6\n",
      "CLOSURE NAME:\n",
      ">  \n",
      "Crabtree Creek Trail Alert for East of N. Raleigh Boulevard Alert, Between Mile Marker 5 and 6\n",
      "DESCRIPTION:\n",
      "> During Hurricane Matthew the City of Raleighsustained damage due to flooding. The stream banks of Crabtree Creek east ofRaleigh Boulevard were eroded. The eroded banks must be stabilized to protectthe Crabtree Creek greenway trail from further erosion. This stablization project, located east of Raleigh Boulevard, is along the top of the right bank (lookingdownstream) of Crabtree Creek. The creek is wide with steep slopes. Bankerosion has led to the asphalt trail washing away in a number of locations inthe past and the trail has been numerously relocated. The trail is currentlyaffected in two locations: one near the new sewer crossing and the secondfurther downstream. This map shows the location of the conditions and project work described. The City is conducting an assessment of the existing conditions of stream and riparian areasalong Crabtree Creek to determine which areas need immediate attentionand to rank the remaining areas for risk of failure. This work will include assessing the feasibility of repairs and recommendationsas to the most realistic and necessary approach to protecting the trailthroughout the site. The Crabtree Creek Trail will remain open in this area throughout the course of this work. \n",
      "LINKS:\n",
      "\n",
      "> https://www.raleighnc.gov//content/ParksRec/Images/Greenways/detourclosuresignCrabtreeCreekRetainingWalls05032018.pdf\n",
      "> https://www.raleighnc.gov//content/ParksRec/Images/Greenways/CCTrailRetainingWallsClosurePhotos05032018.pdf\n",
      "> https://www.raleighnc.gov/parks/content/ParksRec/Articles/Projects/Structure37CrabtreeCreekGreenwayTrail.html\n",
      "\n",
      "\n",
      "CLOSURE ID:\n",
      "> CentennialBikewayConnectorTrailPermanentClosure\n",
      "CLOSURE NAME:\n",
      ">  \n",
      "Centennial Bikeway Connector Trail Permanent Closure\n",
      "DESCRIPTION:\n",
      "> Construction of the Holy Name of Jesus Cathedral has required the permanent closing of the Centennial Bikeway Connector Trail between Western Boulevard and Centennial Parkway. This map shows the location of the closed section of the trail. While this closure is permanent, the Pullen Road extension project will replace the trail connection between Western Boulevard and Centennial Parkway with a parallel, multi-use path. Estimated completion of the Pullen Road extension is to be determined.  For questions about the Pullen Road extension project, please contact the following:Engineering Services DepartmentMonday through Friday8 a.m. to 4:30 p.m. 919-996-3030\n",
      "LINKS:\n",
      "\n",
      "> https://www.raleighnc.gov//content/ParksRec/Images/Greenways/detourclosuresignCrabtreeCreekRetainingWalls05032018.pdf\n",
      "> https://www.raleighnc.gov//content/ParksRec/Images/Greenways/CCTrailRetainingWallsClosurePhotos05032018.pdf\n",
      "> https://www.raleighnc.gov/parks/content/ParksRec/Articles/Projects/Structure37CrabtreeCreekGreenwayTrail.html\n",
      "\n",
      "\n"
     ]
    }
   ],
   "source": [
    "for closure in sections:\n",
    "    closure_id = closure.find_all('h3')[0].get('id')\n",
    "    print(\"CLOSURE ID:\\n> {}\".format(closure_id))\n",
    "    closure_title = closure.find_all(\"h3\")[0].text\n",
    "    print(\"CLOSURE NAME:\\n>  {}\".format(closure_title))\n",
    "    closure_description = closure.select(\".collapse\")[0].text.replace(\"\\n\", \"\")\n",
    "    print(\"DESCRIPTION:\\n> {}\".format(closure_description))\n",
    "    print(\"LINKS:\\n\")\n",
    "    closure_links = section1.find_all(\"a\")\n",
    "    for link in closure_links:\n",
    "        href = link.get(\"href\")\n",
    "        if href[0:4] != \"http\":\n",
    "            print(\"> https://www.raleighnc.gov/{}\".format(href))\n",
    "        else:\n",
    "            print(\"> {}\".format(href))\n",
    "    print('\\n')"
   ]
  }
 ],
 "metadata": {
  "kernelspec": {
   "display_name": "Python 3",
   "language": "python",
   "name": "python3"
  },
  "language_info": {
   "codemirror_mode": {
    "name": "ipython",
    "version": 3
   },
   "file_extension": ".py",
   "mimetype": "text/x-python",
   "name": "python",
   "nbconvert_exporter": "python",
   "pygments_lexer": "ipython3",
   "version": "3.5.5"
  }
 },
 "nbformat": 4,
 "nbformat_minor": 2
}
